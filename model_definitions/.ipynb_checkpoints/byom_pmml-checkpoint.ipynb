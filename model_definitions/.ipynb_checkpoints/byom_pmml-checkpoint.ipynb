{
 "cells": [
  {
   "cell_type": "code",
   "execution_count": 43,
   "id": "bc2500d1-725d-4c0c-962a-ed0a810043b8",
   "metadata": {
    "tags": []
   },
   "outputs": [],
   "source": [
    "import pandas as pd\n",
    "\n",
    "import matplotlib.pyplot as plt\n",
    "import aoa\n",
    "\n",
    "import teradataml as tdml\n",
    "from teradataml import *\n",
    "\n",
    "import getpass\n",
    "\n",
    "#for ClearScape Experience\n",
    "configure.byom_install_location = 'mldb'\n",
    "configure.val_install_location = 'val'\n",
    "\n",
    "# For Transcend\n",
    "#tdml.options.configure.val_install_location = \"TRNG_XSP\"\n",
    "\n",
    "import nyoka\n",
    "from sklearn.pipeline import Pipeline\n",
    "from sklearn.cluster import KMeans\n",
    "from nyoka import skl_to_pmml\n",
    "\n",
    "from pypmml import Model\n",
    "\n",
    "import warnings\n",
    "warnings.filterwarnings('ignore')"
   ]
  },
  {
   "cell_type": "code",
   "execution_count": 28,
   "id": "814f7ea9-dee6-4a6d-984b-4f316425669a",
   "metadata": {
    "tags": []
   },
   "outputs": [
    {
     "name": "stdout",
     "output_type": "stream",
     "text": [
      "\u001b[31mERROR: Could not find a version that satisfies the requirement json (from versions: none)\u001b[0m\u001b[31m\n",
      "\u001b[0m\u001b[31mERROR: No matching distribution found for json\u001b[0m\u001b[31m\n",
      "\u001b[0m"
     ]
    }
   ],
   "source": [
    "!pip install json"
   ]
  },
  {
   "cell_type": "code",
   "execution_count": 24,
   "id": "c63bb916-fab8-47dc-9464-a463e514df54",
   "metadata": {
    "tags": []
   },
   "outputs": [],
   "source": [
    "!pip freeze"
   ]
  },
  {
   "cell_type": "code",
   "execution_count": 2,
   "id": "2c066ebc-c44f-4730-b517-e0033344ec0d",
   "metadata": {
    "tags": []
   },
   "outputs": [],
   "source": [
    "# this is for the ClearScape Experience\n",
    "engine = create_context(\n",
    "    host=\"demo-june-2024-03p9jzrz3oc8j7qv.env.clearscape.teradata.com\"\n",
    "    , username=\"demo_user\"\n",
    "    , password=\"demo_user\")"
   ]
  },
  {
   "cell_type": "code",
   "execution_count": 5,
   "id": "30655298-7abf-4af4-8ded-c008ed9258c9",
   "metadata": {
    "tags": []
   },
   "outputs": [
    {
     "data": {
      "text/html": [
       "<div>\n",
       "<style scoped>\n",
       "    .dataframe tbody tr th:only-of-type {\n",
       "        vertical-align: middle;\n",
       "    }\n",
       "\n",
       "    .dataframe tbody tr th {\n",
       "        vertical-align: top;\n",
       "    }\n",
       "\n",
       "    .dataframe thead th {\n",
       "        text-align: right;\n",
       "    }\n",
       "</style>\n",
       "<table border=\"1\" class=\"dataframe\">\n",
       "  <thead>\n",
       "    <tr style=\"text-align: right;\">\n",
       "      <th></th>\n",
       "      <th>id</th>\n",
       "      <th>sepal_length</th>\n",
       "      <th>sepal_width</th>\n",
       "      <th>petal_length</th>\n",
       "      <th>petal_width</th>\n",
       "      <th>species</th>\n",
       "    </tr>\n",
       "  </thead>\n",
       "  <tbody>\n",
       "    <tr>\n",
       "      <th>0</th>\n",
       "      <td>1</td>\n",
       "      <td>5.1</td>\n",
       "      <td>3.5</td>\n",
       "      <td>1.4</td>\n",
       "      <td>0.2</td>\n",
       "      <td>Iris-setosa</td>\n",
       "    </tr>\n",
       "    <tr>\n",
       "      <th>1</th>\n",
       "      <td>2</td>\n",
       "      <td>4.9</td>\n",
       "      <td>3.0</td>\n",
       "      <td>1.4</td>\n",
       "      <td>0.2</td>\n",
       "      <td>Iris-setosa</td>\n",
       "    </tr>\n",
       "    <tr>\n",
       "      <th>2</th>\n",
       "      <td>3</td>\n",
       "      <td>4.7</td>\n",
       "      <td>3.2</td>\n",
       "      <td>1.3</td>\n",
       "      <td>0.2</td>\n",
       "      <td>Iris-setosa</td>\n",
       "    </tr>\n",
       "    <tr>\n",
       "      <th>3</th>\n",
       "      <td>4</td>\n",
       "      <td>4.6</td>\n",
       "      <td>3.1</td>\n",
       "      <td>1.5</td>\n",
       "      <td>0.2</td>\n",
       "      <td>Iris-setosa</td>\n",
       "    </tr>\n",
       "    <tr>\n",
       "      <th>4</th>\n",
       "      <td>5</td>\n",
       "      <td>5.0</td>\n",
       "      <td>3.6</td>\n",
       "      <td>1.4</td>\n",
       "      <td>0.2</td>\n",
       "      <td>Iris-setosa</td>\n",
       "    </tr>\n",
       "  </tbody>\n",
       "</table>\n",
       "</div>"
      ],
      "text/plain": [
       "   id  sepal_length  sepal_width  petal_length  petal_width      species\n",
       "0   1           5.1          3.5           1.4          0.2  Iris-setosa\n",
       "1   2           4.9          3.0           1.4          0.2  Iris-setosa\n",
       "2   3           4.7          3.2           1.3          0.2  Iris-setosa\n",
       "3   4           4.6          3.1           1.5          0.2  Iris-setosa\n",
       "4   5           5.0          3.6           1.4          0.2  Iris-setosa"
      ]
     },
     "execution_count": 5,
     "metadata": {},
     "output_type": "execute_result"
    }
   ],
   "source": [
    "df = DataFrame('iris').to_pandas()\n",
    "df.head()"
   ]
  },
  {
   "cell_type": "code",
   "execution_count": 6,
   "id": "9ae3a451-610e-4b58-8fff-6a7fad7300e3",
   "metadata": {
    "tags": []
   },
   "outputs": [
    {
     "data": {
      "text/html": [
       "<div>\n",
       "<style scoped>\n",
       "    .dataframe tbody tr th:only-of-type {\n",
       "        vertical-align: middle;\n",
       "    }\n",
       "\n",
       "    .dataframe tbody tr th {\n",
       "        vertical-align: top;\n",
       "    }\n",
       "\n",
       "    .dataframe thead th {\n",
       "        text-align: right;\n",
       "    }\n",
       "</style>\n",
       "<table border=\"1\" class=\"dataframe\">\n",
       "  <thead>\n",
       "    <tr style=\"text-align: right;\">\n",
       "      <th></th>\n",
       "      <th>sepal_length</th>\n",
       "      <th>sepal_width</th>\n",
       "      <th>petal_length</th>\n",
       "      <th>petal_width</th>\n",
       "    </tr>\n",
       "  </thead>\n",
       "  <tbody>\n",
       "    <tr>\n",
       "      <th>0</th>\n",
       "      <td>5.1</td>\n",
       "      <td>3.5</td>\n",
       "      <td>1.4</td>\n",
       "      <td>0.2</td>\n",
       "    </tr>\n",
       "    <tr>\n",
       "      <th>1</th>\n",
       "      <td>4.9</td>\n",
       "      <td>3.0</td>\n",
       "      <td>1.4</td>\n",
       "      <td>0.2</td>\n",
       "    </tr>\n",
       "    <tr>\n",
       "      <th>2</th>\n",
       "      <td>4.7</td>\n",
       "      <td>3.2</td>\n",
       "      <td>1.3</td>\n",
       "      <td>0.2</td>\n",
       "    </tr>\n",
       "    <tr>\n",
       "      <th>3</th>\n",
       "      <td>4.6</td>\n",
       "      <td>3.1</td>\n",
       "      <td>1.5</td>\n",
       "      <td>0.2</td>\n",
       "    </tr>\n",
       "    <tr>\n",
       "      <th>4</th>\n",
       "      <td>5.0</td>\n",
       "      <td>3.6</td>\n",
       "      <td>1.4</td>\n",
       "      <td>0.2</td>\n",
       "    </tr>\n",
       "    <tr>\n",
       "      <th>...</th>\n",
       "      <td>...</td>\n",
       "      <td>...</td>\n",
       "      <td>...</td>\n",
       "      <td>...</td>\n",
       "    </tr>\n",
       "    <tr>\n",
       "      <th>145</th>\n",
       "      <td>6.7</td>\n",
       "      <td>3.0</td>\n",
       "      <td>5.2</td>\n",
       "      <td>2.3</td>\n",
       "    </tr>\n",
       "    <tr>\n",
       "      <th>146</th>\n",
       "      <td>6.3</td>\n",
       "      <td>2.5</td>\n",
       "      <td>5.0</td>\n",
       "      <td>1.9</td>\n",
       "    </tr>\n",
       "    <tr>\n",
       "      <th>147</th>\n",
       "      <td>6.5</td>\n",
       "      <td>3.0</td>\n",
       "      <td>5.2</td>\n",
       "      <td>2.0</td>\n",
       "    </tr>\n",
       "    <tr>\n",
       "      <th>148</th>\n",
       "      <td>6.2</td>\n",
       "      <td>3.4</td>\n",
       "      <td>5.4</td>\n",
       "      <td>2.3</td>\n",
       "    </tr>\n",
       "    <tr>\n",
       "      <th>149</th>\n",
       "      <td>5.9</td>\n",
       "      <td>3.0</td>\n",
       "      <td>5.1</td>\n",
       "      <td>1.8</td>\n",
       "    </tr>\n",
       "  </tbody>\n",
       "</table>\n",
       "<p>150 rows × 4 columns</p>\n",
       "</div>"
      ],
      "text/plain": [
       "     sepal_length  sepal_width  petal_length  petal_width\n",
       "0             5.1          3.5           1.4          0.2\n",
       "1             4.9          3.0           1.4          0.2\n",
       "2             4.7          3.2           1.3          0.2\n",
       "3             4.6          3.1           1.5          0.2\n",
       "4             5.0          3.6           1.4          0.2\n",
       "..            ...          ...           ...          ...\n",
       "145           6.7          3.0           5.2          2.3\n",
       "146           6.3          2.5           5.0          1.9\n",
       "147           6.5          3.0           5.2          2.0\n",
       "148           6.2          3.4           5.4          2.3\n",
       "149           5.9          3.0           5.1          1.8\n",
       "\n",
       "[150 rows x 4 columns]"
      ]
     },
     "execution_count": 6,
     "metadata": {},
     "output_type": "execute_result"
    }
   ],
   "source": [
    "X = df[['sepal_length','sepal_width','petal_length','petal_width']]\n",
    "X"
   ]
  },
  {
   "cell_type": "code",
   "execution_count": 8,
   "id": "00f11de6-69bb-4eff-ab9b-e4f96def5863",
   "metadata": {
    "tags": []
   },
   "outputs": [],
   "source": [
    "pipeline_obj = Pipeline([(\"model\",KMeans(n_clusters=3, random_state=0))]).fit(X)"
   ]
  },
  {
   "cell_type": "code",
   "execution_count": 13,
   "id": "03823212-9be2-43e6-a186-5ffc09f78939",
   "metadata": {
    "tags": []
   },
   "outputs": [],
   "source": [
    "skl_to_pmml(pipeline=pipeline_obj\n",
    "            ,col_names=['sepal_length','sepal_width','petal_length','petal_width']\n",
    "            ,target_name=\"species\"\n",
    "            ,pmml_f_name=\"model.pmml\"\n",
    "           )"
   ]
  },
  {
   "cell_type": "markdown",
   "id": "303f528e-7e9e-4509-aac3-ccd25dc9e66f",
   "metadata": {
    "tags": []
   },
   "source": [
    "## Check scoring localy\n",
    "\n"
   ]
  },
  {
   "cell_type": "code",
   "execution_count": 15,
   "id": "adb554db-fa11-4d40-a03b-7c219526a2a2",
   "metadata": {
    "tags": []
   },
   "outputs": [
    {
     "name": "stdout",
     "output_type": "stream",
     "text": [
      "Collecting pypmml\n",
      "  Downloading pypmml-0.9.17.tar.gz (14.2 MB)\n",
      "\u001b[2K     \u001b[90m━━━━━━━━━━━━━━━━━━━━━━━━━━━━━━━━━━━━━━━━\u001b[0m \u001b[32m14.2/14.2 MB\u001b[0m \u001b[31m4.6 MB/s\u001b[0m eta \u001b[36m0:00:00\u001b[0m00:01\u001b[0m00:01\u001b[0m\n",
      "\u001b[?25h  Preparing metadata (setup.py) ... \u001b[?25ldone\n",
      "\u001b[?25hRequirement already satisfied: py4j>=0.10.7 in /Library/Frameworks/Python.framework/Versions/3.11/lib/python3.11/site-packages (from pypmml) (0.10.9.7)\n",
      "Building wheels for collected packages: pypmml\n",
      "  Building wheel for pypmml (setup.py) ... \u001b[?25ldone\n",
      "\u001b[?25h  Created wheel for pypmml: filename=pypmml-0.9.17-py3-none-any.whl size=14215033 sha256=e7ea7857f3f7350590c0a76010a466fb5c51ce0b9ae54ddcf79be2d7e9fa4376\n",
      "  Stored in directory: /Users/tatiana.bokareva/Library/Caches/pip/wheels/10/af/32/2c0ad04fba57f16c53228736329b7eb5d57b65cee756e2e9fd\n",
      "Successfully built pypmml\n",
      "Installing collected packages: pypmml\n",
      "Successfully installed pypmml-0.9.17\n",
      "\n",
      "\u001b[1m[\u001b[0m\u001b[34;49mnotice\u001b[0m\u001b[1;39;49m]\u001b[0m\u001b[39;49m A new release of pip is available: \u001b[0m\u001b[31;49m24.0\u001b[0m\u001b[39;49m -> \u001b[0m\u001b[32;49m24.1.1\u001b[0m\n",
      "\u001b[1m[\u001b[0m\u001b[34;49mnotice\u001b[0m\u001b[1;39;49m]\u001b[0m\u001b[39;49m To update, run: \u001b[0m\u001b[32;49mpip install --upgrade pip\u001b[0m\n"
     ]
    }
   ],
   "source": [
    "!pip install pypmml"
   ]
  },
  {
   "cell_type": "code",
   "execution_count": 16,
   "id": "87ba220e-073e-41c6-9c38-c0d0f1b4f076",
   "metadata": {
    "tags": []
   },
   "outputs": [],
   "source": [
    "model = Model.fromFile('model.pmml')\n",
    "result = model.predict(df)"
   ]
  },
  {
   "cell_type": "code",
   "execution_count": 17,
   "id": "6ce5d8e3-2f7e-42b0-95b7-3eabeb6fb341",
   "metadata": {
    "tags": []
   },
   "outputs": [
    {
     "data": {
      "text/html": [
       "<div>\n",
       "<style scoped>\n",
       "    .dataframe tbody tr th:only-of-type {\n",
       "        vertical-align: middle;\n",
       "    }\n",
       "\n",
       "    .dataframe tbody tr th {\n",
       "        vertical-align: top;\n",
       "    }\n",
       "\n",
       "    .dataframe thead th {\n",
       "        text-align: right;\n",
       "    }\n",
       "</style>\n",
       "<table border=\"1\" class=\"dataframe\">\n",
       "  <thead>\n",
       "    <tr style=\"text-align: right;\">\n",
       "      <th></th>\n",
       "      <th>affinity(0)</th>\n",
       "      <th>affinity(1)</th>\n",
       "      <th>affinity(2)</th>\n",
       "      <th>cluster</th>\n",
       "    </tr>\n",
       "  </thead>\n",
       "  <tbody>\n",
       "    <tr>\n",
       "      <th>0</th>\n",
       "      <td>3.419251</td>\n",
       "      <td>0.146942</td>\n",
       "      <td>5.059542</td>\n",
       "      <td>1</td>\n",
       "    </tr>\n",
       "    <tr>\n",
       "      <th>1</th>\n",
       "      <td>3.398574</td>\n",
       "      <td>0.438169</td>\n",
       "      <td>5.114943</td>\n",
       "      <td>1</td>\n",
       "    </tr>\n",
       "    <tr>\n",
       "      <th>2</th>\n",
       "      <td>3.569357</td>\n",
       "      <td>0.412301</td>\n",
       "      <td>5.279355</td>\n",
       "      <td>1</td>\n",
       "    </tr>\n",
       "    <tr>\n",
       "      <th>3</th>\n",
       "      <td>3.422410</td>\n",
       "      <td>0.518837</td>\n",
       "      <td>5.153590</td>\n",
       "      <td>1</td>\n",
       "    </tr>\n",
       "    <tr>\n",
       "      <th>4</th>\n",
       "      <td>3.467264</td>\n",
       "      <td>0.197970</td>\n",
       "      <td>5.104334</td>\n",
       "      <td>1</td>\n",
       "    </tr>\n",
       "    <tr>\n",
       "      <th>...</th>\n",
       "      <td>...</td>\n",
       "      <td>...</td>\n",
       "      <td>...</td>\n",
       "      <td>...</td>\n",
       "    </tr>\n",
       "    <tr>\n",
       "      <th>145</th>\n",
       "      <td>1.449577</td>\n",
       "      <td>4.607515</td>\n",
       "      <td>0.611739</td>\n",
       "      <td>2</td>\n",
       "    </tr>\n",
       "    <tr>\n",
       "      <th>146</th>\n",
       "      <td>0.897479</td>\n",
       "      <td>4.214593</td>\n",
       "      <td>1.100724</td>\n",
       "      <td>0</td>\n",
       "    </tr>\n",
       "    <tr>\n",
       "      <th>147</th>\n",
       "      <td>1.179933</td>\n",
       "      <td>4.409988</td>\n",
       "      <td>0.653342</td>\n",
       "      <td>2</td>\n",
       "    </tr>\n",
       "    <tr>\n",
       "      <th>148</th>\n",
       "      <td>1.508893</td>\n",
       "      <td>4.598390</td>\n",
       "      <td>0.835724</td>\n",
       "      <td>2</td>\n",
       "    </tr>\n",
       "    <tr>\n",
       "      <th>149</th>\n",
       "      <td>0.834527</td>\n",
       "      <td>4.076223</td>\n",
       "      <td>1.180550</td>\n",
       "      <td>0</td>\n",
       "    </tr>\n",
       "  </tbody>\n",
       "</table>\n",
       "<p>150 rows × 4 columns</p>\n",
       "</div>"
      ],
      "text/plain": [
       "     affinity(0)  affinity(1)  affinity(2) cluster\n",
       "0       3.419251     0.146942     5.059542       1\n",
       "1       3.398574     0.438169     5.114943       1\n",
       "2       3.569357     0.412301     5.279355       1\n",
       "3       3.422410     0.518837     5.153590       1\n",
       "4       3.467264     0.197970     5.104334       1\n",
       "..           ...          ...          ...     ...\n",
       "145     1.449577     4.607515     0.611739       2\n",
       "146     0.897479     4.214593     1.100724       0\n",
       "147     1.179933     4.409988     0.653342       2\n",
       "148     1.508893     4.598390     0.835724       2\n",
       "149     0.834527     4.076223     1.180550       0\n",
       "\n",
       "[150 rows x 4 columns]"
      ]
     },
     "execution_count": 17,
     "metadata": {},
     "output_type": "execute_result"
    }
   ],
   "source": [
    "result"
   ]
  },
  {
   "cell_type": "markdown",
   "id": "c4689a38-89bf-44ff-a394-143730d8dbdb",
   "metadata": {
    "tags": []
   },
   "source": [
    "## check scoring in vantage"
   ]
  },
  {
   "cell_type": "code",
   "execution_count": 36,
   "id": "e3a355f5-0452-475f-b937-685cb81fcefa",
   "metadata": {
    "tags": []
   },
   "outputs": [
    {
     "name": "stdout",
     "output_type": "stream",
     "text": [
      "Model is saved.\n"
     ]
    }
   ],
   "source": [
    "save_byom(model_id = 'iris_df_pmml', model_file = 'model.pmml', table_name = 'byom_models')"
   ]
  },
  {
   "cell_type": "code",
   "execution_count": 38,
   "id": "07ccd2c4-7045-4387-b05e-9ddf6d7a3c2d",
   "metadata": {
    "tags": []
   },
   "outputs": [],
   "source": [
    "test_pd = DataFrame(\"iris\")"
   ]
  },
  {
   "cell_type": "code",
   "execution_count": 41,
   "id": "ece160b3-3b04-44fe-bd47-a2ac8d013095",
   "metadata": {
    "tags": []
   },
   "outputs": [],
   "source": [
    "model_tdf = retrieve_byom(\"iris_df_pmml\", table_name = 'byom_models')"
   ]
  },
  {
   "cell_type": "code",
   "execution_count": 44,
   "id": "4952885b-96e6-4bae-ac9b-a566fe9a3dbb",
   "metadata": {
    "tags": []
   },
   "outputs": [],
   "source": [
    "# Run the PMMLPredict function in Vantage\n",
    "result = PMMLPredict(\n",
    "            modeldata = model_tdf,\n",
    "            newdata = test_pd,\n",
    "            accumulate = ['id', 'species'],\n",
    "            overwrite_cached_models = '*'\n",
    "            \n",
    "            )"
   ]
  },
  {
   "cell_type": "code",
   "execution_count": 47,
   "id": "f5d4a9b0-9b58-4333-9e2d-79bb170b8d86",
   "metadata": {
    "tags": []
   },
   "outputs": [
    {
     "data": {
      "text/html": [
       "<style type=\"text/css\">\n",
       "\ttable {border:ridge 5px;}\n",
       "\ttable td {border:inset 1px;}\n",
       "\ttable tr#HeaderRow {background-color:grey; color:white;}</style>\n",
       "<html><table>\n",
       "\t<tr id=\"HeaderRow\">\n",
       "\t\t<th>id</th>\n",
       "\t\t<th>species</th>\n",
       "\t\t<th>prediction</th>\n",
       "\t\t<th>json_report</th>\n",
       "\t</tr>\n",
       "\t<tr>\n",
       "\t\t<td>9</td>\n",
       "\t\t<td>Iris-setosa</td>\n",
       "\t\t<td>1</td>\n",
       "\t\t<td>{\"affinity(2)\":5.327981068985526,\"cluster\":\"1\",\"affinity(0)\":3.5723377912068885,\"affinity(1)\":0.8009943820027704}</td>\n",
       "\t</tr>\n",
       "\t<tr>\n",
       "\t\t<td>6</td>\n",
       "\t\t<td>Iris-setosa</td>\n",
       "\t\t<td>1</td>\n",
       "\t\t<td>{\"affinity(2)\":4.681487972844659,\"cluster\":\"1\",\"affinity(0)\":3.1467316179061204,\"affinity(1)\":0.683806990312325}</td>\n",
       "\t</tr>\n",
       "\t<tr>\n",
       "\t\t<td>10</td>\n",
       "\t\t<td>Iris-setosa</td>\n",
       "\t\t<td>1</td>\n",
       "\t\t<td>{\"affinity(2)\":5.067908647651596,\"cluster\":\"1\",\"affinity(0)\":3.3583767014256245,\"affinity(1)\":0.3665951445395862}</td>\n",
       "\t</tr>\n",
       "\t<tr>\n",
       "\t\t<td>4</td>\n",
       "\t\t<td>Iris-setosa</td>\n",
       "\t\t<td>1</td>\n",
       "\t\t<td>{\"affinity(2)\":5.153589771666546,\"cluster\":\"1\",\"affinity(0)\":3.4224096214605226,\"affinity(1)\":0.518837161352192}</td>\n",
       "\t</tr>\n",
       "\t<tr>\n",
       "\t\t<td>12</td>\n",
       "\t\t<td>Iris-setosa</td>\n",
       "\t\t<td>1</td>\n",
       "\t\t<td>{\"affinity(2)\":4.996684496311396,\"cluster\":\"1\",\"affinity(0)\":3.311268717620387,\"affinity(1)\":0.2513801901502988}</td>\n",
       "\t</tr>\n",
       "\t<tr>\n",
       "\t\t<td>3</td>\n",
       "\t\t<td>Iris-setosa</td>\n",
       "\t\t<td>1</td>\n",
       "\t\t<td>{\"affinity(2)\":5.279355339223145,\"cluster\":\"1\",\"affinity(0)\":3.5693566607869642,\"affinity(1)\":0.41230086102262736}</td>\n",
       "\t</tr>\n",
       "\t<tr>\n",
       "\t\t<td>7</td>\n",
       "\t\t<td>Iris-setosa</td>\n",
       "\t\t<td>1</td>\n",
       "\t\t<td>{\"affinity(2)\":5.211476521546081,\"cluster\":\"1\",\"affinity(0)\":3.516502643660603,\"affinity(1)\":0.4152011560677552}</td>\n",
       "\t</tr>\n",
       "\t<tr>\n",
       "\t\t<td>11</td>\n",
       "\t\t<td>Iris-setosa</td>\n",
       "\t\t<td>1</td>\n",
       "\t\t<td>{\"affinity(2)\":4.898067627339833,\"cluster\":\"1\",\"affinity(0)\":3.3244913078206766,\"affinity(1)\":0.48784423743649996}</td>\n",
       "\t</tr>\n",
       "\t<tr>\n",
       "\t\t<td>8</td>\n",
       "\t\t<td>Iris-setosa</td>\n",
       "\t\t<td>1</td>\n",
       "\t\t<td>{\"affinity(2)\":5.002527062226675,\"cluster\":\"1\",\"affinity(0)\":3.3365498702133007,\"affinity(1)\":0.0599332962550873}</td>\n",
       "\t</tr>\n",
       "\t<tr>\n",
       "\t\t<td>2</td>\n",
       "\t\t<td>Iris-setosa</td>\n",
       "\t\t<td>1</td>\n",
       "\t\t<td>{\"affinity(2)\":5.114943345665022,\"cluster\":\"1\",\"affinity(0)\":3.398574255758474,\"affinity(1)\":0.43816891719974854}</td>\n",
       "\t</tr>\n",
       "</table></html>"
      ],
      "text/plain": [
       "   id      species prediction                                                                                                         json_report\n",
       "0   9  Iris-setosa          1   {\"affinity(2)\":5.327981068985526,\"cluster\":\"1\",\"affinity(0)\":3.5723377912068885,\"affinity(1)\":0.8009943820027704}\n",
       "1   6  Iris-setosa          1    {\"affinity(2)\":4.681487972844659,\"cluster\":\"1\",\"affinity(0)\":3.1467316179061204,\"affinity(1)\":0.683806990312325}\n",
       "2  10  Iris-setosa          1   {\"affinity(2)\":5.067908647651596,\"cluster\":\"1\",\"affinity(0)\":3.3583767014256245,\"affinity(1)\":0.3665951445395862}\n",
       "3   4  Iris-setosa          1    {\"affinity(2)\":5.153589771666546,\"cluster\":\"1\",\"affinity(0)\":3.4224096214605226,\"affinity(1)\":0.518837161352192}\n",
       "4  12  Iris-setosa          1    {\"affinity(2)\":4.996684496311396,\"cluster\":\"1\",\"affinity(0)\":3.311268717620387,\"affinity(1)\":0.2513801901502988}\n",
       "5   3  Iris-setosa          1  {\"affinity(2)\":5.279355339223145,\"cluster\":\"1\",\"affinity(0)\":3.5693566607869642,\"affinity(1)\":0.41230086102262736}\n",
       "6   7  Iris-setosa          1    {\"affinity(2)\":5.211476521546081,\"cluster\":\"1\",\"affinity(0)\":3.516502643660603,\"affinity(1)\":0.4152011560677552}\n",
       "7  11  Iris-setosa          1  {\"affinity(2)\":4.898067627339833,\"cluster\":\"1\",\"affinity(0)\":3.3244913078206766,\"affinity(1)\":0.48784423743649996}\n",
       "8   8  Iris-setosa          1   {\"affinity(2)\":5.002527062226675,\"cluster\":\"1\",\"affinity(0)\":3.3365498702133007,\"affinity(1)\":0.0599332962550873}\n",
       "9   2  Iris-setosa          1   {\"affinity(2)\":5.114943345665022,\"cluster\":\"1\",\"affinity(0)\":3.398574255758474,\"affinity(1)\":0.43816891719974854}"
      ]
     },
     "execution_count": 47,
     "metadata": {},
     "output_type": "execute_result"
    }
   ],
   "source": [
    "result.result"
   ]
  },
  {
   "cell_type": "code",
   "execution_count": null,
   "id": "dd994d08-1ca1-477b-8862-f78b88022692",
   "metadata": {},
   "outputs": [],
   "source": [
    "# Run the PMMLPredict function in Vantage\n",
    "result = PMMLPredict(\n",
    "            modeldata = model_tdf\n",
    "            ,newdata = test_pd\n",
    "            ,accumulate = ['id', 'species']\n",
    "            ,overwrite_cached_models = '*'\n",
    "            ,model_output_fields = ['affinity(0)'\n",
    "                                   , 'affinity(1)'\n",
    "                                   , 'affinity(2)'\n",
    "                                   , 'cluster']\n",
    "            )"
   ]
  }
 ],
 "metadata": {
  "kernelspec": {
   "display_name": "Python 3 (ipykernel)",
   "language": "python",
   "name": "python3"
  },
  "language_info": {
   "codemirror_mode": {
    "name": "ipython",
    "version": 3
   },
   "file_extension": ".py",
   "mimetype": "text/x-python",
   "name": "python",
   "nbconvert_exporter": "python",
   "pygments_lexer": "ipython3",
   "version": "3.11.5"
  }
 },
 "nbformat": 4,
 "nbformat_minor": 5
}
